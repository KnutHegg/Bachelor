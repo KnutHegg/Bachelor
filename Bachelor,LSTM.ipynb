{
 "cells": [
  {
   "cell_type": "code",
   "execution_count": 81,
   "metadata": {},
   "outputs": [],
   "source": [
    "import numpy as np\n",
    "import matplotlib.pyplot as plt\n",
    "import seaborn as sns\n",
    "import pandas as pd\n",
    "import datetime \n",
    "\n",
    "# tensorflow 2.6, numpy 1.95 needed \n",
    "import keras\n",
    "from keras.layers import Dense\n",
    "from keras.models import Sequential\n",
    "from keras.callbacks import EarlyStopping\n",
    "from keras.utils import np_utils\n",
    "import itertools\n",
    "from keras.layers import LSTM\n",
    "from keras.layers import Dropout\n",
    "from sklearn.metrics import mean_squared_error\n",
    "\n",
    "from sklearn.preprocessing import MinMaxScaler\n",
    "from sklearn import preprocessing\n",
    "import math\n",
    "import random\n",
    "import warnings\n",
    "warnings.filterwarnings(\"ignore\")\n",
    "random.seed(10)\n"
   ]
  },
  {
   "cell_type": "code",
   "execution_count": 82,
   "metadata": {},
   "outputs": [],
   "source": [
    "passengers_df = pd.read_csv('data/AIRLINE_PASSENGERS.csv', parse_dates=['Date'])\n",
    "alcohol_df = pd.read_csv('data/ALCOHOL_SALES.csv', parse_dates=['Date'])\n",
    "beer_df = pd.read_csv('data/AUS_BEER_PRODUCTION.csv', parse_dates=['Date'])\n",
    "electric_df = pd.read_csv('data/ELECTRIC_PRODUCTION.csv', parse_dates=['Date'])\n",
    "minTemp_df = pd.read_csv('data/MIN_TEMP.csv', parse_dates=['Date'])\n",
    "gdp_df = pd.read_csv('data/NOR_GDP.csv', parse_dates=['Date'])\n",
    "#population_df = pd.read_csv('data/POPULATION.csv', parse_dates=['Date'])\n",
    "sunspots_df = pd.read_csv('data/SUNSPOTS.csv', parse_dates=['Date'])\n",
    "SP_df = pd.read_csv('data/SP.csv', parse_dates=['Date'])\n",
    "yahoo_df = pd.read_csv('data/YAHOO.csv', parse_dates=['Date'])\n",
    "tesla_df = pd.read_csv('data/TESLA.csv', parse_dates=['Date'])\n",
    "\n",
    "\n",
    "\n",
    "\n",
    "def set_name(dfs,names):\n",
    "    for ind, df in enumerate(dfs):\n",
    "        df.name = names[ind]\n",
    "    return dfs\n",
    "name_list = ['passengers_df', 'alcohol_df', 'beer_df', \n",
    "             'electric_df', 'minTemp_df', 'gdp_df', 'sunspots_df','SP_df', 'yahoo_df', 'tesla_df']\n",
    "\n",
    "\n",
    "dfs_list = []\n",
    "dfs_list.append(passengers_df)\n",
    "dfs_list.append(alcohol_df)\n",
    "dfs_list.append(beer_df)\n",
    "dfs_list.append(electric_df)\n",
    "dfs_list.append(minTemp_df)\n",
    "dfs_list.append(gdp_df)\n",
    "dfs_list.append(sunspots_df)\n",
    "dfs_list.append(SP_df)\n",
    "dfs_list.append(yahoo_df)\n",
    "dfs_list.append(tesla_df)\n",
    "\n",
    "\n",
    "\n",
    "\n",
    "dfs_list = set_name(dfs_list, name_list)\n"
   ]
  },
  {
   "cell_type": "code",
   "execution_count": 83,
   "metadata": {},
   "outputs": [],
   "source": [
    "def split_train_test(df, ratio, nr_of_forecasts):\n",
    "    split_range = int(len(df)* ratio)\n",
    "    train, test, forecasts = df[0:split_range],df[split_range:len(df)-nr_of_forecasts], df[len(df)-nr_of_forecasts:len(df)]  \n",
    "    return train, test, forecasts"
   ]
  },
  {
   "cell_type": "code",
   "execution_count": 84,
   "metadata": {},
   "outputs": [],
   "source": [
    "def timeseries_to_supervised(data, lag=1):\n",
    "    df = pd.DataFrame(data)\n",
    "    columns = [df.shift(i) for i in range(1, lag+1)]\n",
    "    columns.append(df)\n",
    "    df = pd.concat(columns, axis=1)\n",
    "    df.fillna(0, inplace=True)\n",
    "    return df"
   ]
  },
  {
   "cell_type": "code",
   "execution_count": 85,
   "metadata": {},
   "outputs": [],
   "source": [
    "def flatten(t):\n",
    "    return [item for sublist in t for item in sublist]"
   ]
  },
  {
   "cell_type": "code",
   "execution_count": 86,
   "metadata": {},
   "outputs": [],
   "source": [
    "def get_mape(actual, pred):\n",
    "    return np.mean(np.abs((actual - pred)/actual))*100"
   ]
  },
  {
   "cell_type": "code",
   "execution_count": 87,
   "metadata": {},
   "outputs": [],
   "source": [
    "def get_accuracy(df, ratio, fcs_nr_list):\n",
    "\n",
    "    data = df[df.columns[1]].values.reshape(-1, 1)\n",
    "    min_max_scaler = preprocessing.MinMaxScaler(feature_range=(-1, 1))\n",
    "    data_scaled = min_max_scaler.fit_transform(data)\n",
    "    data_scaled = timeseries_to_supervised(data_scaled).values\n",
    "\n",
    "    train, test, forecasts = split_train_test(data_scaled, ratio, nr_of_forecasts=10)\n",
    "\n",
    "    X_train, y_train = train[:, 0:-1], train[:, -1]\n",
    "    X_train = X_train.reshape(X_train.shape[0], 1, X_train.shape[1])\n",
    "\n",
    "    model = Sequential()\n",
    "    model.add(LSTM(units = 4, activation = 'relu', batch_input_shape=(1, X_train.shape[1], X_train.shape[2]), stateful=True))\n",
    "    model.add(Dense(1))\n",
    "    model.compile(loss='mean_squared_error', optimizer='adam')\n",
    "\n",
    "    for i in range(100):\n",
    "        model.fit(X_train, y_train, epochs= 1, batch_size=1, verbose=0, shuffle=False)\n",
    "        model.reset_states()\n",
    "    \n",
    "    #model.fit(X_train, y_train, epochs = 50, batch_size = 1, verbose =0, shuffle = False )\n",
    "    \n",
    "    train_forecasts = model.predict(X_train, batch_size=1)\n",
    "    \n",
    "    train_forecasts = np.ravel(min_max_scaler.inverse_transform(train_forecasts))\n",
    "    y_train = np.ravel(min_max_scaler.inverse_transform(y_train.reshape(-1, 1)))\n",
    "   \n",
    "    train_rmse = np.round((mean_squared_error(train_forecasts, y_train))**0.5, 4)\n",
    "    train_mape = np.round(get_mape(train_forecasts, y_train), 4)\n",
    "    \n",
    "    #plt.plot(y_train)\n",
    "    #plt.plot(train_forecasts)\n",
    "    #plt.show()\n",
    "    print(f'train rmse: {train_rmse}')\n",
    "    print(f'train mape: {train_mape}')\n",
    "    \n",
    "    \n",
    "    \n",
    "    X_train, y_train = train[:, 0:-1], train[:, -1]\n",
    "    X_train = X_train.reshape(X_train.shape[0], 1, X_train.shape[1])\n",
    "    \n",
    "    test_fcs = np.array([])\n",
    "    for i in range(len(test)):\n",
    "        model.fit(X_train, y_train, epochs= 1, batch_size=1, verbose=0, shuffle=False)\n",
    "        \n",
    "        X_test, y_test = test[i, 0:-1], test[i, -1]\n",
    "        X_test = X_test.reshape(X_test.shape[0], 1, 1)\n",
    "        #print(X_test)\n",
    "        \n",
    "        single_fc = model.predict([X_test], batch_size = 1)\n",
    "        #print(single_fc)\n",
    "        test_fcs = np.append(test_fcs, single_fc[0][0])\n",
    "        \n",
    "        X_train = np.vstack((X_train, X_test))\n",
    "        y_train = np.append(y_train, y_test)\n",
    "        \n",
    "        \n",
    "        \n",
    "        #print(f'X_train: {X_train}')\n",
    "        #print(f'y_train: {y_train}')\n",
    "    \n",
    "    test_fcs = np.ravel(min_max_scaler.inverse_transform(test_fcs.reshape(-1 ,1)))\n",
    "    y_test = test[:, -1]\n",
    "    y_test = np.ravel(min_max_scaler.inverse_transform(y_test.reshape(-1, 1)))\n",
    "    \n",
    "    test_rmse = np.round((mean_squared_error(test_fcs, y_test))**0.5, 4)\n",
    "    test_mape = np.round(get_mape(test_fcs, y_test), 4)\n",
    "    print(f'test rmse: {test_rmse}')\n",
    "    print(f'test mape: {test_mape}')\n",
    "    \n",
    "    #plt.plot(y_test)\n",
    "    #plt.plot(test_fcs)\n",
    "    #plt.show()\n",
    "    forecasts_rmse_list = []\n",
    "    forecasts_mape_list = []\n",
    "    for fcs in fcs_nr_list:\n",
    "        X_fc, y_fc = forecasts[0:fcs, 0:-1], forecasts[:fcs,-1]\n",
    "        X_fc = X_fc.reshape(X_fc.shape[0], 1, X_fc.shape[1])\n",
    "        fc_predictions = model.predict(X_fc, batch_size = 1)\n",
    "        \n",
    "        fc_predictions =   np.ravel(min_max_scaler.inverse_transform(fc_predictions))\n",
    "        y_fc = np.ravel(min_max_scaler.inverse_transform(y_fc.reshape(-1, 1)))\n",
    "        \n",
    "        fc_rmse = np.round(mean_squared_error(fc_predictions, y_fc)**0.5, 4)\n",
    "        fc_mape = np.round(get_mape(fc_predictions, y_fc), 4)\n",
    "        print(fc_rmse, fc_mape)\n",
    "        forecasts_rmse_list.append(fc_rmse)\n",
    "        forecasts_mape_list.append(fc_mape)\n",
    "    print(f'forecast rmse: {fc_rmse_list}')\n",
    "    print(f'forecast smape: {fc_mape_list}')\n",
    "    \n",
    "    return train_rmse, train_mape, test_rmse, test_mape, forecasts_rmse_list, forecasts_mape_list\n",
    "    \n",
    "    "
   ]
  },
  {
   "cell_type": "code",
   "execution_count": 88,
   "metadata": {},
   "outputs": [],
   "source": [
    "def save_cv(filepath, train_rmse, train_mape, test_rmse, test_mape, fc_rmse, fc_mape):\n",
    "    \n",
    "    df = pd.DataFrame({'Data': name_list, 'Train RMSE': train_rmse,'Train MAPE': train_mape,\n",
    "                       'Test RMSE': test_rmse, 'Test MAPE': test_mape, '1-step RMSE': [x[0] for x in fc_rmse],\n",
    "                       '3-step RMSE': [x[1] for x in fc_rmse], '5-step RMSE': [x[2] for x in fc_rmse],\n",
    "                        '10-step RMSE': [x[3] for x in fc_rmse],'1-step MAPE': [x[0] for x in fc_mape],\n",
    "                       '3-step MAPE': [x[1] for x in fc_mape],'5-step MAPE': [x[2] for x in fc_mape],\n",
    "                       '10-step MAPE': [x[3] for x in fc_mape] })\n",
    "    df.to_csv(filepath, index = False)\n",
    "    return df"
   ]
  },
  {
   "cell_type": "code",
   "execution_count": 89,
   "metadata": {},
   "outputs": [
    {
     "ename": "NameError",
     "evalue": "name 'ff' is not defined",
     "output_type": "error",
     "traceback": [
      "\u001b[1;31m---------------------------------------------------------------------------\u001b[0m",
      "\u001b[1;31mNameError\u001b[0m                                 Traceback (most recent call last)",
      "\u001b[1;32mc:\\Users\\Knut\\Documents\\Skole\\6. Semester\\Bachelor\\Bachelor2\\Bachelor\\Bachelor,LSTM.ipynb Cell 9'\u001b[0m in \u001b[0;36m<cell line: 1>\u001b[1;34m()\u001b[0m\n\u001b[1;32m----> <a href='vscode-notebook-cell:/c%3A/Users/Knut/Documents/Skole/6.%20Semester/Bachelor/Bachelor2/Bachelor/Bachelor%2CLSTM.ipynb#ch0000008?line=0'>1</a>\u001b[0m ff\n",
      "\u001b[1;31mNameError\u001b[0m: name 'ff' is not defined"
     ]
    }
   ],
   "source": [
    "ff"
   ]
  },
  {
   "cell_type": "code",
   "execution_count": 90,
   "metadata": {},
   "outputs": [
    {
     "name": "stdout",
     "output_type": "stream",
     "text": [
      "passengers_df\n",
      "train rmse: 38.2594\n",
      "train mape: 10.0177\n",
      "test rmse: 62.384\n",
      "test mape: 11.9554\n",
      "26.7092 6.8085\n",
      "50.8245 12.0849\n",
      "109.6934 21.6098\n",
      "102.3205 19.5118\n",
      "forecast rmse: []\n",
      "forecast smape: []\n",
      "alcohol_df\n"
     ]
    },
    {
     "ename": "KeyboardInterrupt",
     "evalue": "",
     "output_type": "error",
     "traceback": [
      "\u001b[1;31m---------------------------------------------------------------------------\u001b[0m",
      "\u001b[1;31mKeyboardInterrupt\u001b[0m                         Traceback (most recent call last)",
      "\u001b[1;32mc:\\Users\\Knut\\Documents\\Skole\\6. Semester\\Bachelor\\Bachelor2\\Bachelor\\Bachelor,LSTM.ipynb Cell 10'\u001b[0m in \u001b[0;36m<cell line: 3>\u001b[1;34m()\u001b[0m\n\u001b[0;32m      <a href='vscode-notebook-cell:/c%3A/Users/Knut/Documents/Skole/6.%20Semester/Bachelor/Bachelor2/Bachelor/Bachelor%2CLSTM.ipynb#ch0000009?line=2'>3</a>\u001b[0m \u001b[39mfor\u001b[39;00m df \u001b[39min\u001b[39;00m dfs_list:\n\u001b[0;32m      <a href='vscode-notebook-cell:/c%3A/Users/Knut/Documents/Skole/6.%20Semester/Bachelor/Bachelor2/Bachelor/Bachelor%2CLSTM.ipynb#ch0000009?line=3'>4</a>\u001b[0m     \u001b[39mprint\u001b[39m(df\u001b[39m.\u001b[39mname)\n\u001b[1;32m----> <a href='vscode-notebook-cell:/c%3A/Users/Knut/Documents/Skole/6.%20Semester/Bachelor/Bachelor2/Bachelor/Bachelor%2CLSTM.ipynb#ch0000009?line=4'>5</a>\u001b[0m     train_rmse, train_mape, test_rmse, test_mape, fc_rmse, fc_mape \u001b[39m=\u001b[39m get_accuracy(df, \u001b[39m0.75\u001b[39;49m, fcs_nr_list\u001b[39m=\u001b[39;49m nr_of_forecasts)\n\u001b[0;32m      <a href='vscode-notebook-cell:/c%3A/Users/Knut/Documents/Skole/6.%20Semester/Bachelor/Bachelor2/Bachelor/Bachelor%2CLSTM.ipynb#ch0000009?line=5'>6</a>\u001b[0m     train_rmse_list\u001b[39m.\u001b[39mappend(train_rmse)\n\u001b[0;32m      <a href='vscode-notebook-cell:/c%3A/Users/Knut/Documents/Skole/6.%20Semester/Bachelor/Bachelor2/Bachelor/Bachelor%2CLSTM.ipynb#ch0000009?line=6'>7</a>\u001b[0m     train_mape_list\u001b[39m.\u001b[39mappend(train_mape)\n",
      "\u001b[1;32mc:\\Users\\Knut\\Documents\\Skole\\6. Semester\\Bachelor\\Bachelor2\\Bachelor\\Bachelor,LSTM.ipynb Cell 7'\u001b[0m in \u001b[0;36mget_accuracy\u001b[1;34m(df, ratio, fcs_nr_list)\u001b[0m\n\u001b[0;32m     <a href='vscode-notebook-cell:/c%3A/Users/Knut/Documents/Skole/6.%20Semester/Bachelor/Bachelor2/Bachelor/Bachelor%2CLSTM.ipynb#ch0000006?line=15'>16</a>\u001b[0m model\u001b[39m.\u001b[39mcompile(loss\u001b[39m=\u001b[39m\u001b[39m'\u001b[39m\u001b[39mmean_squared_error\u001b[39m\u001b[39m'\u001b[39m, optimizer\u001b[39m=\u001b[39m\u001b[39m'\u001b[39m\u001b[39madam\u001b[39m\u001b[39m'\u001b[39m)\n\u001b[0;32m     <a href='vscode-notebook-cell:/c%3A/Users/Knut/Documents/Skole/6.%20Semester/Bachelor/Bachelor2/Bachelor/Bachelor%2CLSTM.ipynb#ch0000006?line=17'>18</a>\u001b[0m \u001b[39mfor\u001b[39;00m i \u001b[39min\u001b[39;00m \u001b[39mrange\u001b[39m(\u001b[39m100\u001b[39m):\n\u001b[1;32m---> <a href='vscode-notebook-cell:/c%3A/Users/Knut/Documents/Skole/6.%20Semester/Bachelor/Bachelor2/Bachelor/Bachelor%2CLSTM.ipynb#ch0000006?line=18'>19</a>\u001b[0m     model\u001b[39m.\u001b[39;49mfit(X_train, y_train, epochs\u001b[39m=\u001b[39;49m \u001b[39m1\u001b[39;49m, batch_size\u001b[39m=\u001b[39;49m\u001b[39m1\u001b[39;49m, verbose\u001b[39m=\u001b[39;49m\u001b[39m0\u001b[39;49m, shuffle\u001b[39m=\u001b[39;49m\u001b[39mFalse\u001b[39;49;00m)\n\u001b[0;32m     <a href='vscode-notebook-cell:/c%3A/Users/Knut/Documents/Skole/6.%20Semester/Bachelor/Bachelor2/Bachelor/Bachelor%2CLSTM.ipynb#ch0000006?line=19'>20</a>\u001b[0m     model\u001b[39m.\u001b[39mreset_states()\n\u001b[0;32m     <a href='vscode-notebook-cell:/c%3A/Users/Knut/Documents/Skole/6.%20Semester/Bachelor/Bachelor2/Bachelor/Bachelor%2CLSTM.ipynb#ch0000006?line=21'>22</a>\u001b[0m \u001b[39m#model.fit(X_train, y_train, epochs = 50, batch_size = 1, verbose =0, shuffle = False )\u001b[39;00m\n",
      "File \u001b[1;32mc:\\Users\\Knut\\anaconda3\\lib\\site-packages\\tensorflow\\python\\keras\\engine\\training.py:1193\u001b[0m, in \u001b[0;36mModel.fit\u001b[1;34m(self, x, y, batch_size, epochs, verbose, callbacks, validation_split, validation_data, shuffle, class_weight, sample_weight, initial_epoch, steps_per_epoch, validation_steps, validation_batch_size, validation_freq, max_queue_size, workers, use_multiprocessing)\u001b[0m\n\u001b[0;32m   <a href='file:///c%3A/Users/Knut/anaconda3/lib/site-packages/tensorflow/python/keras/engine/training.py?line=1185'>1186</a>\u001b[0m \u001b[39mwith\u001b[39;00m trace\u001b[39m.\u001b[39mTrace(\n\u001b[0;32m   <a href='file:///c%3A/Users/Knut/anaconda3/lib/site-packages/tensorflow/python/keras/engine/training.py?line=1186'>1187</a>\u001b[0m     \u001b[39m'\u001b[39m\u001b[39mtrain\u001b[39m\u001b[39m'\u001b[39m,\n\u001b[0;32m   <a href='file:///c%3A/Users/Knut/anaconda3/lib/site-packages/tensorflow/python/keras/engine/training.py?line=1187'>1188</a>\u001b[0m     epoch_num\u001b[39m=\u001b[39mepoch,\n\u001b[0;32m   <a href='file:///c%3A/Users/Knut/anaconda3/lib/site-packages/tensorflow/python/keras/engine/training.py?line=1188'>1189</a>\u001b[0m     step_num\u001b[39m=\u001b[39mstep,\n\u001b[0;32m   <a href='file:///c%3A/Users/Knut/anaconda3/lib/site-packages/tensorflow/python/keras/engine/training.py?line=1189'>1190</a>\u001b[0m     batch_size\u001b[39m=\u001b[39mbatch_size,\n\u001b[0;32m   <a href='file:///c%3A/Users/Knut/anaconda3/lib/site-packages/tensorflow/python/keras/engine/training.py?line=1190'>1191</a>\u001b[0m     _r\u001b[39m=\u001b[39m\u001b[39m1\u001b[39m):\n\u001b[0;32m   <a href='file:///c%3A/Users/Knut/anaconda3/lib/site-packages/tensorflow/python/keras/engine/training.py?line=1191'>1192</a>\u001b[0m   callbacks\u001b[39m.\u001b[39mon_train_batch_begin(step)\n\u001b[1;32m-> <a href='file:///c%3A/Users/Knut/anaconda3/lib/site-packages/tensorflow/python/keras/engine/training.py?line=1192'>1193</a>\u001b[0m   tmp_logs \u001b[39m=\u001b[39m \u001b[39mself\u001b[39;49m\u001b[39m.\u001b[39;49mtrain_function(iterator)\n\u001b[0;32m   <a href='file:///c%3A/Users/Knut/anaconda3/lib/site-packages/tensorflow/python/keras/engine/training.py?line=1193'>1194</a>\u001b[0m   \u001b[39mif\u001b[39;00m data_handler\u001b[39m.\u001b[39mshould_sync:\n\u001b[0;32m   <a href='file:///c%3A/Users/Knut/anaconda3/lib/site-packages/tensorflow/python/keras/engine/training.py?line=1194'>1195</a>\u001b[0m     context\u001b[39m.\u001b[39masync_wait()\n",
      "File \u001b[1;32mc:\\Users\\Knut\\anaconda3\\lib\\site-packages\\tensorflow\\python\\eager\\def_function.py:885\u001b[0m, in \u001b[0;36mFunction.__call__\u001b[1;34m(self, *args, **kwds)\u001b[0m\n\u001b[0;32m    <a href='file:///c%3A/Users/Knut/anaconda3/lib/site-packages/tensorflow/python/eager/def_function.py?line=881'>882</a>\u001b[0m compiler \u001b[39m=\u001b[39m \u001b[39m\"\u001b[39m\u001b[39mxla\u001b[39m\u001b[39m\"\u001b[39m \u001b[39mif\u001b[39;00m \u001b[39mself\u001b[39m\u001b[39m.\u001b[39m_jit_compile \u001b[39melse\u001b[39;00m \u001b[39m\"\u001b[39m\u001b[39mnonXla\u001b[39m\u001b[39m\"\u001b[39m\n\u001b[0;32m    <a href='file:///c%3A/Users/Knut/anaconda3/lib/site-packages/tensorflow/python/eager/def_function.py?line=883'>884</a>\u001b[0m \u001b[39mwith\u001b[39;00m OptionalXlaContext(\u001b[39mself\u001b[39m\u001b[39m.\u001b[39m_jit_compile):\n\u001b[1;32m--> <a href='file:///c%3A/Users/Knut/anaconda3/lib/site-packages/tensorflow/python/eager/def_function.py?line=884'>885</a>\u001b[0m   result \u001b[39m=\u001b[39m \u001b[39mself\u001b[39;49m\u001b[39m.\u001b[39;49m_call(\u001b[39m*\u001b[39;49margs, \u001b[39m*\u001b[39;49m\u001b[39m*\u001b[39;49mkwds)\n\u001b[0;32m    <a href='file:///c%3A/Users/Knut/anaconda3/lib/site-packages/tensorflow/python/eager/def_function.py?line=886'>887</a>\u001b[0m new_tracing_count \u001b[39m=\u001b[39m \u001b[39mself\u001b[39m\u001b[39m.\u001b[39mexperimental_get_tracing_count()\n\u001b[0;32m    <a href='file:///c%3A/Users/Knut/anaconda3/lib/site-packages/tensorflow/python/eager/def_function.py?line=887'>888</a>\u001b[0m without_tracing \u001b[39m=\u001b[39m (tracing_count \u001b[39m==\u001b[39m new_tracing_count)\n",
      "File \u001b[1;32mc:\\Users\\Knut\\anaconda3\\lib\\site-packages\\tensorflow\\python\\eager\\def_function.py:917\u001b[0m, in \u001b[0;36mFunction._call\u001b[1;34m(self, *args, **kwds)\u001b[0m\n\u001b[0;32m    <a href='file:///c%3A/Users/Knut/anaconda3/lib/site-packages/tensorflow/python/eager/def_function.py?line=913'>914</a>\u001b[0m   \u001b[39mself\u001b[39m\u001b[39m.\u001b[39m_lock\u001b[39m.\u001b[39mrelease()\n\u001b[0;32m    <a href='file:///c%3A/Users/Knut/anaconda3/lib/site-packages/tensorflow/python/eager/def_function.py?line=914'>915</a>\u001b[0m   \u001b[39m# In this case we have created variables on the first call, so we run the\u001b[39;00m\n\u001b[0;32m    <a href='file:///c%3A/Users/Knut/anaconda3/lib/site-packages/tensorflow/python/eager/def_function.py?line=915'>916</a>\u001b[0m   \u001b[39m# defunned version which is guaranteed to never create variables.\u001b[39;00m\n\u001b[1;32m--> <a href='file:///c%3A/Users/Knut/anaconda3/lib/site-packages/tensorflow/python/eager/def_function.py?line=916'>917</a>\u001b[0m   \u001b[39mreturn\u001b[39;00m \u001b[39mself\u001b[39;49m\u001b[39m.\u001b[39;49m_stateless_fn(\u001b[39m*\u001b[39;49margs, \u001b[39m*\u001b[39;49m\u001b[39m*\u001b[39;49mkwds)  \u001b[39m# pylint: disable=not-callable\u001b[39;00m\n\u001b[0;32m    <a href='file:///c%3A/Users/Knut/anaconda3/lib/site-packages/tensorflow/python/eager/def_function.py?line=917'>918</a>\u001b[0m \u001b[39melif\u001b[39;00m \u001b[39mself\u001b[39m\u001b[39m.\u001b[39m_stateful_fn \u001b[39mis\u001b[39;00m \u001b[39mnot\u001b[39;00m \u001b[39mNone\u001b[39;00m:\n\u001b[0;32m    <a href='file:///c%3A/Users/Knut/anaconda3/lib/site-packages/tensorflow/python/eager/def_function.py?line=918'>919</a>\u001b[0m   \u001b[39m# Release the lock early so that multiple threads can perform the call\u001b[39;00m\n\u001b[0;32m    <a href='file:///c%3A/Users/Knut/anaconda3/lib/site-packages/tensorflow/python/eager/def_function.py?line=919'>920</a>\u001b[0m   \u001b[39m# in parallel.\u001b[39;00m\n\u001b[0;32m    <a href='file:///c%3A/Users/Knut/anaconda3/lib/site-packages/tensorflow/python/eager/def_function.py?line=920'>921</a>\u001b[0m   \u001b[39mself\u001b[39m\u001b[39m.\u001b[39m_lock\u001b[39m.\u001b[39mrelease()\n",
      "File \u001b[1;32mc:\\Users\\Knut\\anaconda3\\lib\\site-packages\\tensorflow\\python\\eager\\function.py:3039\u001b[0m, in \u001b[0;36mFunction.__call__\u001b[1;34m(self, *args, **kwargs)\u001b[0m\n\u001b[0;32m   <a href='file:///c%3A/Users/Knut/anaconda3/lib/site-packages/tensorflow/python/eager/function.py?line=3035'>3036</a>\u001b[0m \u001b[39mwith\u001b[39;00m \u001b[39mself\u001b[39m\u001b[39m.\u001b[39m_lock:\n\u001b[0;32m   <a href='file:///c%3A/Users/Knut/anaconda3/lib/site-packages/tensorflow/python/eager/function.py?line=3036'>3037</a>\u001b[0m   (graph_function,\n\u001b[0;32m   <a href='file:///c%3A/Users/Knut/anaconda3/lib/site-packages/tensorflow/python/eager/function.py?line=3037'>3038</a>\u001b[0m    filtered_flat_args) \u001b[39m=\u001b[39m \u001b[39mself\u001b[39m\u001b[39m.\u001b[39m_maybe_define_function(args, kwargs)\n\u001b[1;32m-> <a href='file:///c%3A/Users/Knut/anaconda3/lib/site-packages/tensorflow/python/eager/function.py?line=3038'>3039</a>\u001b[0m \u001b[39mreturn\u001b[39;00m graph_function\u001b[39m.\u001b[39;49m_call_flat(\n\u001b[0;32m   <a href='file:///c%3A/Users/Knut/anaconda3/lib/site-packages/tensorflow/python/eager/function.py?line=3039'>3040</a>\u001b[0m     filtered_flat_args, captured_inputs\u001b[39m=\u001b[39;49mgraph_function\u001b[39m.\u001b[39;49mcaptured_inputs)\n",
      "File \u001b[1;32mc:\\Users\\Knut\\anaconda3\\lib\\site-packages\\tensorflow\\python\\eager\\function.py:1963\u001b[0m, in \u001b[0;36mConcreteFunction._call_flat\u001b[1;34m(self, args, captured_inputs, cancellation_manager)\u001b[0m\n\u001b[0;32m   <a href='file:///c%3A/Users/Knut/anaconda3/lib/site-packages/tensorflow/python/eager/function.py?line=1958'>1959</a>\u001b[0m possible_gradient_type \u001b[39m=\u001b[39m gradients_util\u001b[39m.\u001b[39mPossibleTapeGradientTypes(args)\n\u001b[0;32m   <a href='file:///c%3A/Users/Knut/anaconda3/lib/site-packages/tensorflow/python/eager/function.py?line=1959'>1960</a>\u001b[0m \u001b[39mif\u001b[39;00m (possible_gradient_type \u001b[39m==\u001b[39m gradients_util\u001b[39m.\u001b[39mPOSSIBLE_GRADIENT_TYPES_NONE\n\u001b[0;32m   <a href='file:///c%3A/Users/Knut/anaconda3/lib/site-packages/tensorflow/python/eager/function.py?line=1960'>1961</a>\u001b[0m     \u001b[39mand\u001b[39;00m executing_eagerly):\n\u001b[0;32m   <a href='file:///c%3A/Users/Knut/anaconda3/lib/site-packages/tensorflow/python/eager/function.py?line=1961'>1962</a>\u001b[0m   \u001b[39m# No tape is watching; skip to running the function.\u001b[39;00m\n\u001b[1;32m-> <a href='file:///c%3A/Users/Knut/anaconda3/lib/site-packages/tensorflow/python/eager/function.py?line=1962'>1963</a>\u001b[0m   \u001b[39mreturn\u001b[39;00m \u001b[39mself\u001b[39m\u001b[39m.\u001b[39m_build_call_outputs(\u001b[39mself\u001b[39;49m\u001b[39m.\u001b[39;49m_inference_function\u001b[39m.\u001b[39;49mcall(\n\u001b[0;32m   <a href='file:///c%3A/Users/Knut/anaconda3/lib/site-packages/tensorflow/python/eager/function.py?line=1963'>1964</a>\u001b[0m       ctx, args, cancellation_manager\u001b[39m=\u001b[39;49mcancellation_manager))\n\u001b[0;32m   <a href='file:///c%3A/Users/Knut/anaconda3/lib/site-packages/tensorflow/python/eager/function.py?line=1964'>1965</a>\u001b[0m forward_backward \u001b[39m=\u001b[39m \u001b[39mself\u001b[39m\u001b[39m.\u001b[39m_select_forward_and_backward_functions(\n\u001b[0;32m   <a href='file:///c%3A/Users/Knut/anaconda3/lib/site-packages/tensorflow/python/eager/function.py?line=1965'>1966</a>\u001b[0m     args,\n\u001b[0;32m   <a href='file:///c%3A/Users/Knut/anaconda3/lib/site-packages/tensorflow/python/eager/function.py?line=1966'>1967</a>\u001b[0m     possible_gradient_type,\n\u001b[0;32m   <a href='file:///c%3A/Users/Knut/anaconda3/lib/site-packages/tensorflow/python/eager/function.py?line=1967'>1968</a>\u001b[0m     executing_eagerly)\n\u001b[0;32m   <a href='file:///c%3A/Users/Knut/anaconda3/lib/site-packages/tensorflow/python/eager/function.py?line=1968'>1969</a>\u001b[0m forward_function, args_with_tangents \u001b[39m=\u001b[39m forward_backward\u001b[39m.\u001b[39mforward()\n",
      "File \u001b[1;32mc:\\Users\\Knut\\anaconda3\\lib\\site-packages\\tensorflow\\python\\eager\\function.py:591\u001b[0m, in \u001b[0;36m_EagerDefinedFunction.call\u001b[1;34m(self, ctx, args, cancellation_manager)\u001b[0m\n\u001b[0;32m    <a href='file:///c%3A/Users/Knut/anaconda3/lib/site-packages/tensorflow/python/eager/function.py?line=588'>589</a>\u001b[0m \u001b[39mwith\u001b[39;00m _InterpolateFunctionError(\u001b[39mself\u001b[39m):\n\u001b[0;32m    <a href='file:///c%3A/Users/Knut/anaconda3/lib/site-packages/tensorflow/python/eager/function.py?line=589'>590</a>\u001b[0m   \u001b[39mif\u001b[39;00m cancellation_manager \u001b[39mis\u001b[39;00m \u001b[39mNone\u001b[39;00m:\n\u001b[1;32m--> <a href='file:///c%3A/Users/Knut/anaconda3/lib/site-packages/tensorflow/python/eager/function.py?line=590'>591</a>\u001b[0m     outputs \u001b[39m=\u001b[39m execute\u001b[39m.\u001b[39;49mexecute(\n\u001b[0;32m    <a href='file:///c%3A/Users/Knut/anaconda3/lib/site-packages/tensorflow/python/eager/function.py?line=591'>592</a>\u001b[0m         \u001b[39mstr\u001b[39;49m(\u001b[39mself\u001b[39;49m\u001b[39m.\u001b[39;49msignature\u001b[39m.\u001b[39;49mname),\n\u001b[0;32m    <a href='file:///c%3A/Users/Knut/anaconda3/lib/site-packages/tensorflow/python/eager/function.py?line=592'>593</a>\u001b[0m         num_outputs\u001b[39m=\u001b[39;49m\u001b[39mself\u001b[39;49m\u001b[39m.\u001b[39;49m_num_outputs,\n\u001b[0;32m    <a href='file:///c%3A/Users/Knut/anaconda3/lib/site-packages/tensorflow/python/eager/function.py?line=593'>594</a>\u001b[0m         inputs\u001b[39m=\u001b[39;49margs,\n\u001b[0;32m    <a href='file:///c%3A/Users/Knut/anaconda3/lib/site-packages/tensorflow/python/eager/function.py?line=594'>595</a>\u001b[0m         attrs\u001b[39m=\u001b[39;49mattrs,\n\u001b[0;32m    <a href='file:///c%3A/Users/Knut/anaconda3/lib/site-packages/tensorflow/python/eager/function.py?line=595'>596</a>\u001b[0m         ctx\u001b[39m=\u001b[39;49mctx)\n\u001b[0;32m    <a href='file:///c%3A/Users/Knut/anaconda3/lib/site-packages/tensorflow/python/eager/function.py?line=596'>597</a>\u001b[0m   \u001b[39melse\u001b[39;00m:\n\u001b[0;32m    <a href='file:///c%3A/Users/Knut/anaconda3/lib/site-packages/tensorflow/python/eager/function.py?line=597'>598</a>\u001b[0m     outputs \u001b[39m=\u001b[39m execute\u001b[39m.\u001b[39mexecute_with_cancellation(\n\u001b[0;32m    <a href='file:///c%3A/Users/Knut/anaconda3/lib/site-packages/tensorflow/python/eager/function.py?line=598'>599</a>\u001b[0m         \u001b[39mstr\u001b[39m(\u001b[39mself\u001b[39m\u001b[39m.\u001b[39msignature\u001b[39m.\u001b[39mname),\n\u001b[0;32m    <a href='file:///c%3A/Users/Knut/anaconda3/lib/site-packages/tensorflow/python/eager/function.py?line=599'>600</a>\u001b[0m         num_outputs\u001b[39m=\u001b[39m\u001b[39mself\u001b[39m\u001b[39m.\u001b[39m_num_outputs,\n\u001b[1;32m   (...)\u001b[0m\n\u001b[0;32m    <a href='file:///c%3A/Users/Knut/anaconda3/lib/site-packages/tensorflow/python/eager/function.py?line=602'>603</a>\u001b[0m         ctx\u001b[39m=\u001b[39mctx,\n\u001b[0;32m    <a href='file:///c%3A/Users/Knut/anaconda3/lib/site-packages/tensorflow/python/eager/function.py?line=603'>604</a>\u001b[0m         cancellation_manager\u001b[39m=\u001b[39mcancellation_manager)\n",
      "File \u001b[1;32mc:\\Users\\Knut\\anaconda3\\lib\\site-packages\\tensorflow\\python\\eager\\execute.py:59\u001b[0m, in \u001b[0;36mquick_execute\u001b[1;34m(op_name, num_outputs, inputs, attrs, ctx, name)\u001b[0m\n\u001b[0;32m     <a href='file:///c%3A/Users/Knut/anaconda3/lib/site-packages/tensorflow/python/eager/execute.py?line=56'>57</a>\u001b[0m \u001b[39mtry\u001b[39;00m:\n\u001b[0;32m     <a href='file:///c%3A/Users/Knut/anaconda3/lib/site-packages/tensorflow/python/eager/execute.py?line=57'>58</a>\u001b[0m   ctx\u001b[39m.\u001b[39mensure_initialized()\n\u001b[1;32m---> <a href='file:///c%3A/Users/Knut/anaconda3/lib/site-packages/tensorflow/python/eager/execute.py?line=58'>59</a>\u001b[0m   tensors \u001b[39m=\u001b[39m pywrap_tfe\u001b[39m.\u001b[39;49mTFE_Py_Execute(ctx\u001b[39m.\u001b[39;49m_handle, device_name, op_name,\n\u001b[0;32m     <a href='file:///c%3A/Users/Knut/anaconda3/lib/site-packages/tensorflow/python/eager/execute.py?line=59'>60</a>\u001b[0m                                       inputs, attrs, num_outputs)\n\u001b[0;32m     <a href='file:///c%3A/Users/Knut/anaconda3/lib/site-packages/tensorflow/python/eager/execute.py?line=60'>61</a>\u001b[0m \u001b[39mexcept\u001b[39;00m core\u001b[39m.\u001b[39m_NotOkStatusException \u001b[39mas\u001b[39;00m e:\n\u001b[0;32m     <a href='file:///c%3A/Users/Knut/anaconda3/lib/site-packages/tensorflow/python/eager/execute.py?line=61'>62</a>\u001b[0m   \u001b[39mif\u001b[39;00m name \u001b[39mis\u001b[39;00m \u001b[39mnot\u001b[39;00m \u001b[39mNone\u001b[39;00m:\n",
      "\u001b[1;31mKeyboardInterrupt\u001b[0m: "
     ]
    }
   ],
   "source": [
    "train_rmse_list, train_mape_list, test_rmse_list, test_mape_list, fc_rmse_list, fc_mape_list = [], [], [], [], [], []\n",
    "nr_of_forecasts = [1, 3, 5, 10]\n",
    "for df in dfs_list:\n",
    "    print(df.name)\n",
    "    train_rmse, train_mape, test_rmse, test_mape, fc_rmse, fc_mape = get_accuracy(df, 0.75, fcs_nr_list= nr_of_forecasts)\n",
    "    train_rmse_list.append(train_rmse)\n",
    "    train_mape_list.append(train_mape)\n",
    "    test_rmse_list.append(test_rmse)\n",
    "    test_mape_list.append(test_mape)\n",
    "    fc_rmse_list.append(fc_rmse)\n",
    "    fc_mape_list.append(fc_mape)\n",
    "results = save_cv(\"results/LSTM_results.csv\", train_rmse_list, train_mape_list, test_rmse_list, test_mape_list, fc_rmse_list, fc_mape_list)\n"
   ]
  },
  {
   "cell_type": "code",
   "execution_count": null,
   "metadata": {},
   "outputs": [
    {
     "ename": "NameError",
     "evalue": "name 'ff' is not defined",
     "output_type": "error",
     "traceback": [
      "\u001b[1;31m---------------------------------------------------------------------------\u001b[0m",
      "\u001b[1;31mNameError\u001b[0m                                 Traceback (most recent call last)",
      "\u001b[1;32mc:\\Users\\Knut\\Documents\\Skole\\6. Semester\\Bachelor\\Bachelor2\\Bachelor\\Bachelor,LSTM.ipynb Cell 8'\u001b[0m in \u001b[0;36m<cell line: 1>\u001b[1;34m()\u001b[0m\n\u001b[1;32m----> <a href='vscode-notebook-cell:/c%3A/Users/Knut/Documents/Skole/6.%20Semester/Bachelor/Bachelor2/Bachelor/Bachelor%2CLSTM.ipynb#ch0000007?line=0'>1</a>\u001b[0m ff\n",
      "\u001b[1;31mNameError\u001b[0m: name 'ff' is not defined"
     ]
    }
   ],
   "source": [
    "ff"
   ]
  }
 ],
 "metadata": {
  "interpreter": {
   "hash": "cd0b1d608bd0e5024644dae2cdbcee13271296bd49f5e48df2e59ce3d0ae5b90"
  },
  "kernelspec": {
   "display_name": "Python 3.8.5 ('base')",
   "language": "python",
   "name": "python3"
  },
  "language_info": {
   "codemirror_mode": {
    "name": "ipython",
    "version": 3
   },
   "file_extension": ".py",
   "mimetype": "text/x-python",
   "name": "python",
   "nbconvert_exporter": "python",
   "pygments_lexer": "ipython3",
   "version": "3.8.5"
  },
  "orig_nbformat": 4
 },
 "nbformat": 4,
 "nbformat_minor": 2
}
